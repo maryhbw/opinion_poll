{
 "cells": [
  {
   "cell_type": "markdown",
   "id": "fbb8f08e",
   "metadata": {},
   "source": [
    "# Proof of Principal Opinion Poll\n",
    "Here we use search terms 'bio manufacturing' to query twitter for tweets, frequency of tweets, hashtags, mentions to discover who is talking and how they are talking about this topic"
   ]
  },
  {
   "cell_type": "markdown",
   "id": "905a1b0d",
   "metadata": {
    "heading_collapsed": true
   },
   "source": [
    "## Import packages"
   ]
  },
  {
   "cell_type": "code",
   "execution_count": 394,
   "id": "7ae2274a",
   "metadata": {
    "hidden": true
   },
   "outputs": [],
   "source": [
    "##IMPORT PACKAGES##\n",
    "# For sending GET requests from the API\n",
    "import requests\n",
    "# For saving access tokens and for file management when creating and adding to the dataset\n",
    "# For dealing with json responses we receive from the API\n",
    "import json\n",
    "#for locally saved data\n",
    "import os\n",
    "# For displaying the data after\n",
    "import pandas as pd\n",
    "# For saving the response data in CSV format\n",
    "import csv\n",
    "# For parsing the dates received from twitter in readable formats\n",
    "# For Creating a timeseries with which to query twitter\n",
    "import pytz\n",
    "import datetime\n",
    "import dateutil.parser\n",
    "import unicodedata\n",
    "from datetime import datetime,  timedelta\n",
    "import matplotlib.pyplot as plt\n",
    "import re\n",
    "#prepare the data for tpoic analysis\n",
    "from nltk.corpus import stopwords \n",
    "import string\n",
    "from nltk.stem.wordnet import WordNetLemmatizer\n",
    "from nltk import word_tokenize\n",
    "from sklearn.decomposition import LatentDirichletAllocation\n",
    "from sklearn.feature_extraction.text import CountVectorizer\n",
    "#summarization\n",
    "from sumy.parsers.plaintext import PlaintextParser\n",
    "from sumy.nlp.tokenizers import Tokenizer\n",
    "from sumy.summarizers.lex_rank import LexRankSummarizer\n",
    "from sumy.summarizers.luhn import LuhnSummarizer\n",
    "from sumy.summarizers.lsa import LsaSummarizer\n",
    "from sumy.nlp.stemmers import Stemmer\n",
    "from sumy.utils import get_stop_words\n",
    "from sumy.summarizers.text_rank import TextRankSummarizer\n",
    "import numpy as np\n"
   ]
  },
  {
   "cell_type": "markdown",
   "id": "88022d9d",
   "metadata": {
    "heading_collapsed": true
   },
   "source": [
    "## Load saved query\n"
   ]
  },
  {
   "cell_type": "code",
   "execution_count": 404,
   "id": "53446670",
   "metadata": {
    "hidden": true
   },
   "outputs": [],
   "source": [
    "def load_saved_data(keyword):\n",
    "    path = f'/Users/maryward/twitter_project/data_tsung/biomanufacturing/'\n",
    "    #path = f'{path}{keyword}.csv'\n",
    "    count = 0\n",
    "    for file in os.listdir(path):\n",
    "        print(file)\n",
    "        # open the file\n",
    "        with open(os.path.join(path, file), 'rb') as f:\n",
    "            print(f)\n",
    "            df = pd.read_csv(f)\n",
    "            df['date'] = file[:10]\n",
    "            if count ==0:\n",
    "                df2 = df\n",
    "                count +=1\n",
    "            else:\n",
    "                print(count)\n",
    "                df2 = pd.concat([df,df2], axis = 0)\n",
    "    return df2"
   ]
  },
  {
   "cell_type": "code",
   "execution_count": 405,
   "id": "22cde52f",
   "metadata": {
    "hidden": true
   },
   "outputs": [
    {
     "name": "stdout",
     "output_type": "stream",
     "text": [
      "privacy marketing.csv\n",
      "<_io.BufferedReader name='/Users/maryward/twitter_project/data_Quick/privacy marketing.csv'>\n"
     ]
    }
   ],
   "source": [
    "keyword = 'biomanufacturing'\n",
    "mark_priv_df = load_saved_data(keyword)"
   ]
  },
  {
   "cell_type": "code",
   "execution_count": 407,
   "id": "48510292",
   "metadata": {
    "hidden": true
   },
   "outputs": [],
   "source": [
    "len(mark_priv_df)\n",
    "data_frame = mark_priv_df"
   ]
  },
  {
   "cell_type": "markdown",
   "id": "cce85c33",
   "metadata": {},
   "source": [
    "## Twitter API call"
   ]
  },
  {
   "cell_type": "code",
   "execution_count": 732,
   "id": "f8479e93",
   "metadata": {},
   "outputs": [],
   "source": [
    "def create_headers():\n",
    "    bearer_token = 'AAAAAAAAAAAAAAAAAAAAALyLcAEAAAAA9MBGXsNUoEcuPoIOeMWFs3kMuSg%3DU3tz61tblOdVbgLXekmuvvPYnCWZA35S6i66YrNhS5DyaXaCgS'\n",
    "    '''create headers from bearer token'''\n",
    "    headers = {\"Authorization\": \"Bearer {}\".format(bearer_token)}\n",
    "    return headers\n",
    "\n",
    "def create_url(keyword, start_date, end_date, max_results = 100):\n",
    "    '''make a url for the API call'''\n",
    "    search_url = \"https://api.twitter.com/2/tweets/search/recent\" #Change to the endpoint you want to collect data from\n",
    "    query_params = {'query': keyword,\n",
    "                    'start_time': start_date,\n",
    "                    'end_time': end_date, #start-time limited to 1 week with Essential Access from Twitter\n",
    "                    'max_results': max_results, #maximum is 100\n",
    "                    'expansions': 'author_id,in_reply_to_user_id,geo.place_id',\n",
    "                    'tweet.fields': 'id,text,author_id,in_reply_to_user_id,geo,conversation_id,created_at,lang,public_metrics,referenced_tweets,reply_settings,source,context_annotations',\n",
    "                    'user.fields': 'id,name,username,created_at,description,public_metrics,verified',\n",
    "                    'place.fields': 'full_name,id,country,country_code,geo,name,place_type',\n",
    "                    'next_token': {}}\n",
    "    return (search_url, query_params)\n",
    "\n",
    "def connect_to_endpoint(url, headers, params, next_token = None):\n",
    "    '''function to connect to twitter API endpoint'''\n",
    "    params['next_token'] = next_token   #params object received from create_url function\n",
    "    response = requests.request(\"GET\", url, headers = headers, params = params)\n",
    "    print(\"Endpoint Response Code: \" + str(response.status_code))\n",
    "    if response.status_code != 200:\n",
    "        raise Exception(response.status_code, response.text)\n",
    "    return response.json()\n",
    "\n",
    "def loop_through_query(headers, keyword , start_time , end_time ,n_tweets = 1000, max_results = 100):\n",
    "    \"\"\"funtion loops through next_tokens to return n_tweets\"\"\"\n",
    "    '''define '''\n",
    "    # now we have two json STRINGS\n",
    "    next_token = None\n",
    "    url = create_url(keyword, start_time,end_time, max_results)\n",
    "    json_response = connect_to_endpoint(url[0], headers, url[1], next_token)\n",
    "    if json_response['meta']['result_count']>0:\n",
    "        df_keep = pd.DataFrame(json_response['data'])    \n",
    "        for i in range(round(n_tweets/100)):\n",
    "            if next_token:\n",
    "                url = create_url(keyword, start_time,end_time, max_results)\n",
    "                json_response = connect_to_endpoint(url[0], headers, url[1], next_token)\n",
    "                keys = list(json_response.keys())\n",
    "                #if len(json_response) !=0:\n",
    "                if json_response['meta']['result_count']>0:\n",
    "                    df_new = pd.DataFrame(json_response['data'])\n",
    "                   # df_new = df[['created_at','source', 'text', 'author_id',  'conversation_id','context_annotations']] #'geo',\n",
    "                    df_keep = pd.concat([df_keep, df_new], axis=0) #final_dict = {key: value for (key, value) in (final_dict.items() + dictA.items())}\n",
    "            if json_response['meta']['result_count'] >= max_results:\n",
    "                next_token = json_response['meta']['next_token']\n",
    "            else:\n",
    "                next_token = None\n",
    "        return df_keep\n",
    "    else:\n",
    "        return print(\"No Results\")\n"
   ]
  },
  {
   "cell_type": "code",
   "execution_count": 672,
   "id": "8ca708a8",
   "metadata": {},
   "outputs": [],
   "source": [
    "#time series cut by for a week\n",
    "def recent_time_by_hour(hours):\n",
    "    '''creates a list of dates to cycle through for making a times series for hours\n",
    "    up to one week back max = 168'''\n",
    "    start_times = []\n",
    "    end_times = []\n",
    "    for i in range(hours):\n",
    "        today = datetime.today() - timedelta(hours=5.05) #timedelta based on diff to UTC, 2.05 from Amsterdam\n",
    "        end_date = (today - timedelta(hours=i)).isoformat() #slice by days, could be hours, minutes, etc.\n",
    "        start_date = (today - timedelta(hours=(i+1.05))).isoformat()\n",
    "        start_times.append((start_date[:23]+'Z'))\n",
    "        end_times.append((end_date[:23]+'Z'))\n",
    "\n",
    "    return start_times, end_times"
   ]
  },
  {
   "cell_type": "code",
   "execution_count": 674,
   "id": "0bd42b71",
   "metadata": {},
   "outputs": [],
   "source": [
    "def recent_time_by_hour(hours):\n",
    "    '''creates a list of dates to cycle through for making a times series for hours\n",
    "    up to one week back max = 168'''\n",
    "    start_times = []\n",
    "    end_times = []\n",
    "    for i in range(hours):\n",
    "        today = datetime.today() - timedelta(hours=5.05) #timedelta based on diff to UTC, 2.05 from Amsterdam\n",
    "        end_date = (today - timedelta(hours=i)).isoformat() #slice by days, could be hours, minutes, etc.\n",
    "        start_date = (today - timedelta(hours=(i+1.05))).isoformat()\n",
    "        start_times.append((start_date[:23]+'Z'))\n",
    "        end_times.append((end_date[:23]+'Z'))\n",
    "\n",
    "    return start_times, end_times"
   ]
  },
  {
   "cell_type": "code",
   "execution_count": 655,
   "id": "51987a4c",
   "metadata": {},
   "outputs": [],
   "source": [
    "def time_series_api_call(headers,keyword, n_tweets= 1000, hours=None,  days = None):\n",
    "    '''takes a list of start and end times and returns a concatenated\n",
    "    DataFrame of the tweets over the specified times'''\n",
    "    count = 0\n",
    "    if hours:\n",
    "        start_times, end_times = recent_time_by_hour(hours)\n",
    "    if days:\n",
    "        start_times, end_times = recent_time_series(days)\n",
    "    keyword = f'{keyword} lang:en'\n",
    "    for start_time, end_time in zip (start_times,end_times):\n",
    "        df = loop_through_query(n_tweets = n_tweets, headers = headers, keyword = keyword, start_time = start_time, end_time = end_time, max_results = 100)\n",
    "        if count ==0:\n",
    "            df2 = df\n",
    "            count +=1\n",
    "        # df2 = df2[['created_at','source', 'text', 'author_id',  'conversation_id']]\n",
    "        else:\n",
    "            print(count)\n",
    "            df2 = pd.concat([df,df2], axis = 0)\n",
    "    return df2"
   ]
  },
  {
   "cell_type": "code",
   "execution_count": 649,
   "id": "1b82be58",
   "metadata": {},
   "outputs": [],
   "source": [
    "def save_tweets_csv(df,keyword):\n",
    "    path = f'/Users/maryward/twitter_project/data_tsung/'#change filename\n",
    "    df.to_csv(f'{path}{keyword}/{keyword}.csv')"
   ]
  },
  {
   "cell_type": "code",
   "execution_count": 789,
   "id": "119b08b8",
   "metadata": {},
   "outputs": [
    {
     "name": "stdout",
     "output_type": "stream",
     "text": [
      "Endpoint Response Code: 200\n",
      "Endpoint Response Code: 200\n",
      "1\n",
      "Endpoint Response Code: 200\n",
      "1\n",
      "Endpoint Response Code: 200\n",
      "No Results\n",
      "1\n",
      "Endpoint Response Code: 200\n",
      "1\n",
      "Endpoint Response Code: 200\n",
      "No Results\n",
      "1\n"
     ]
    }
   ],
   "source": [
    "#'biomanufactured materials' number of results = 0 20.07.2022\n",
    "#'Biofabricate'  number of results = 0\n",
    "# 'Biotextiles' number of results = 0\n",
    "#try \"synbio\", \"biomaterials\"\n",
    "headers = create_headers()\n",
    "keyword = 'algal oil'\n",
    "data_frame = time_series_api_call(headers,keyword, n_tweets= 1000, hours=None,  days = 6)\n"
   ]
  },
  {
   "cell_type": "code",
   "execution_count": 790,
   "id": "2562ce43",
   "metadata": {},
   "outputs": [
    {
     "data": {
      "text/plain": [
       "69"
      ]
     },
     "execution_count": 790,
     "metadata": {},
     "output_type": "execute_result"
    }
   ],
   "source": [
    "len(data_frame)"
   ]
  },
  {
   "cell_type": "code",
   "execution_count": 685,
   "id": "1f807e56",
   "metadata": {},
   "outputs": [],
   "source": [
    "#save_tweets_csv(data_frame,'biomanufacturing')"
   ]
  },
  {
   "cell_type": "code",
   "execution_count": 677,
   "id": "1ddb36c1",
   "metadata": {},
   "outputs": [
    {
     "name": "stdout",
     "output_type": "stream",
     "text": [
      "Endpoint Response Code: 200\n"
     ]
    }
   ],
   "source": [
    "headers = create_headers()\n",
    "keyword = 'biomanufactured materials'\n",
    "start_times, end_times = recent_time_series(2)\n",
    "start_date = start_times[0]\n",
    "end_date = end_times[0]\n",
    "url, params = create_url(keyword, start_date, end_date, max_results = 100)\n",
    "response = connect_to_endpoint(url, headers, params, next_token = None)"
   ]
  },
  {
   "cell_type": "code",
   "execution_count": 679,
   "id": "9f44c3e3",
   "metadata": {},
   "outputs": [
    {
     "data": {
      "text/plain": [
       "0"
      ]
     },
     "execution_count": 679,
     "metadata": {},
     "output_type": "execute_result"
    }
   ],
   "source": [
    "response['meta']['result_count']"
   ]
  },
  {
   "cell_type": "code",
   "execution_count": 780,
   "id": "38d59cac",
   "metadata": {},
   "outputs": [
    {
     "data": {
      "text/plain": [
       "1893"
      ]
     },
     "execution_count": 780,
     "metadata": {},
     "output_type": "execute_result"
    }
   ],
   "source": [
    "#total tweets in a week\n",
    "len(data_frame) #211"
   ]
  },
  {
   "cell_type": "code",
   "execution_count": 766,
   "id": "e68f69ec",
   "metadata": {},
   "outputs": [],
   "source": [
    "#save_tweets_csv(data_frame, 'biomanufacturing')"
   ]
  },
  {
   "cell_type": "markdown",
   "id": "3fd6d8b3",
   "metadata": {},
   "source": [
    "## When are people tweeting about..."
   ]
  },
  {
   "cell_type": "code",
   "execution_count": 767,
   "id": "51095ef8",
   "metadata": {},
   "outputs": [],
   "source": [
    "def time_of_tweet(df2, keyword = None): #keyword\n",
    "    '''returns a histogram of tweets by time posted\n",
    "    proxy for geographical location and nice for tageting ads by\n",
    "    taget active time'''\n",
    "    path = f'/Users/maryward/twitter_project/data_Quick/images/'\n",
    "    keyword = 'privacy marketing'\n",
    "    df2['created_at'] = pd.to_datetime(df2['created_at'])\n",
    "    df2['time'] = [str(x)[11:13] for x in df2['created_at']]\n",
    "    df2['time'].value_counts().sort_index().plot(kind='bar')\n",
    "    plt.title(f'Time of tweet by users')\n",
    "    plt.xlabel('Hour of day UTC')\n",
    "    plt.ylabel('Tweet volume')\n",
    "    #plt.close()\n",
    "    if keyword:\n",
    "        plt.savefig(f'{path}/{keyword}.time_tweet.png')\n",
    "    plt.show()"
   ]
  },
  {
   "cell_type": "code",
   "execution_count": 791,
   "id": "1571e8d8",
   "metadata": {},
   "outputs": [
    {
     "data": {
      "image/png": "[encoded data removed]",
      "text/plain": [
       "<Figure size 432x288 with 1 Axes>"
      ]
     },
     "metadata": {
      "needs_background": "light"
     },
     "output_type": "display_data"
    }
   ],
   "source": [
    "time_of_tweet(data_frame, keyword = 'biomanufacturing')"
   ]
  },
  {
   "cell_type": "markdown",
   "id": "4bccfc94",
   "metadata": {},
   "source": [
    "## How often do accounts tweet about..."
   ]
  },
  {
   "cell_type": "code",
   "execution_count": 769,
   "id": "58fd59c1",
   "metadata": {},
   "outputs": [],
   "source": [
    "path = f'/Users/maryward/twitter_project/data_Quick/images/'\n",
    "def tweets_by_user(df2, keyword = None): #keyword\n",
    "    '''returns a histogram of tweets by author_id\n",
    "    to find key opinion leaders and basic twitter use by account'''\n",
    "    df2[\"author_id\"].value_counts().plot(kind = 'hist') #.sort_values(ascending = False)\n",
    "    plt.title(f\"Twitter Use per day by User, keyword: '{keyword}'\")\n",
    "    plt.xlabel('Number of tweets per day')\n",
    "    plt.ylabel('Number of users')\n",
    "    #if keyword is specified, image saved locally to image file\n",
    "    if keyword:\n",
    "        plt.savefig(f'{path}/{keyword}.user_tweet_freq_all.png')\n",
    "    plt.show()\n",
    "    #histogram of accounts that tweet more than 2x per day\n",
    "    users_df = df2.groupby(\"author_id\").agg(\"count\")\n",
    "    high_users = users_df[users_df['created_at']>2] #109/1399 users tweet more than 1 time per week\n",
    "    high_users['created_at'].plot(kind = 'hist')\n",
    "    plt.title(f\"Twitter Use per day by User, keyword: '{keyword}'\")\n",
    "    plt.xlabel('Number of tweets per day')\n",
    "    plt.ylabel('Number of users')\n",
    "   # plt.close() \n",
    "    if keyword:\n",
    "        plt.savefig(f'{path}/{keyword}.user_tweet_freq_high.png')\n",
    "    plt.show()"
   ]
  },
  {
   "cell_type": "code",
   "execution_count": 792,
   "id": "d8899c4f",
   "metadata": {},
   "outputs": [
    {
     "data": {
      "image/png": "[encoded data removed]",
      "text/plain": [
       "<Figure size 432x288 with 1 Axes>"
      ]
     },
     "metadata": {
      "needs_background": "light"
     },
     "output_type": "display_data"
    },
    {
     "data": {
      "image/png": "[encoded data removed]",
      "text/plain": [
       "<Figure size 432x288 with 1 Axes>"
      ]
     },
     "metadata": {
      "needs_background": "light"
     },
     "output_type": "display_data"
    }
   ],
   "source": [
    "tweets_by_user(data_frame, keyword = 'bm')"
   ]
  },
  {
   "cell_type": "markdown",
   "id": "8e0a5056",
   "metadata": {},
   "source": [
    "## Topic analysis"
   ]
  },
  {
   "cell_type": "markdown",
   "id": "af1e7e88",
   "metadata": {},
   "source": [
    "### Clean tweet data"
   ]
  },
  {
   "cell_type": "code",
   "execution_count": 771,
   "id": "27ac6945",
   "metadata": {},
   "outputs": [],
   "source": [
    "def clean_text_data(df):\n",
    "    '''removes urls, mentions, and hashtags and lowercases the text\n",
    "    returns DataFrame with clean_text, mentions, and hashtags as new columns'''\n",
    "    df2 = df.copy()\n",
    "    df2['clean_text'] = df2['text'].apply(lambda x: re.sub(r\"https?://\\S+\", '', str(x), flags=re.MULTILINE))\n",
    "    #store mentions\n",
    "    mentions =df2['text'].apply(lambda x : re.findall(\"@([a-zA-Z0-9_]{1,50})\", str(x)))\n",
    "    df2['mentions'] = mentions\n",
    "    #store hashtags\n",
    "    hashtags = df2['text'].apply(lambda x : re.findall(\"#([a-zA-Z0-9_]{1,50})\", str(x)))\n",
    "    df2['hashtags'] = hashtags\n",
    "    #remove mentions, remove hashtags\n",
    "    df2['clean_text'] = df2['clean_text'].apply(lambda x: re.sub(\"@([a-zA-Z0-9_]{1,50})\", '', str(x)))\n",
    "    #df2['clean_text'] = df2['clean_text'].apply(lambda x: re.sub(\"#([a-zA-Z0-9_]{1,50})\", '', str(x)))\n",
    "    #lowercase\n",
    "    df2['clean_text'] = df2['clean_text'].str.lower().str.strip()\n",
    "    return df2\n",
    "\n",
    "def label_retweets(df2):\n",
    "    '''assigns 1 if \"retweet\"  and 0 if source tweet\n",
    "    returns df2 with 'retweet' column'''\n",
    "    retweet = []\n",
    "    for  x in df2['clean_text']:\n",
    "        if 'rt :' in x:\n",
    "            retweet.append(1)\n",
    "        else:\n",
    "            retweet.append(0)\n",
    "    #assign boolean to 'retweet'\n",
    "    df2['retweet'] = retweet\n",
    "    return df2\n",
    "\n",
    "def clean_lemmatize(text):\n",
    "    \"\"\"cleans and lemmatizes the words with WordNetLemmatizer()\"\"\"\n",
    "    for punctuation in string.punctuation:\n",
    "        text = text.replace(punctuation, ' ') # Remove Punctuation\n",
    "    lowercased = text.lower() # Lower Case\n",
    "    tokenized = word_tokenize(lowercased) # Tokenize\n",
    "    words_only = [word for word in tokenized if word.isalpha()] # Remove numbers\n",
    "    stop_words = set(stopwords.words('english')) # Make stopword list\n",
    "    without_stopwords = [word for word in words_only if not word in stop_words] # Remove Stop Words\n",
    "    lemma=WordNetLemmatizer() # Initiate Lemmatizer\n",
    "    lemmatized = [lemma.lemmatize(word) for word in without_stopwords] # Lemmatize\n",
    "    return lemmatized\n",
    "\n",
    "def apply_clean_lemmatize(df2):\n",
    "    df2['clean_text_lemma'] = df2['clean_text'].apply(clean_lemmatize)\n",
    "    df2['clean_text_lemma'] = df2['clean_text_lemma'].astype('str')\n",
    "    return df2"
   ]
  },
  {
   "cell_type": "code",
   "execution_count": 793,
   "id": "68eb6e41",
   "metadata": {},
   "outputs": [],
   "source": [
    "clean_df = clean_text_data(data_frame)\n",
    "clean_df = label_retweets(clean_df)\n",
    "clean_df = apply_clean_lemmatize(clean_df)"
   ]
  },
  {
   "cell_type": "markdown",
   "id": "f4baaeb9",
   "metadata": {},
   "source": [
    "### Topic Analysis"
   ]
  },
  {
   "cell_type": "code",
   "execution_count": 786,
   "id": "0dad20be",
   "metadata": {},
   "outputs": [],
   "source": [
    "def LDA_trainer(df2, n_components = 4):\n",
    "    '''Train a LDA model on text data, source, to extract potential topics\n",
    "    currently 3 topic node used in the model'''\n",
    "    source_tweet = df2[df2['retweet']==0]\n",
    "    #initialize vectorizer\n",
    "    vectorizer = CountVectorizer()\n",
    "    data_vectorized = vectorizer.fit_transform(source_tweet['clean_text_lemma'])\n",
    "    #initialize LDA model\n",
    "    lda_model = LatentDirichletAllocation(n_components)\n",
    "    lda_vectors = lda_model.fit_transform(data_vectorized)\n",
    "    #get topics and put into a dict\n",
    "    topic_dict = {}\n",
    "    for idx, topic in enumerate(lda_model.components_):\n",
    "        topic_dict[\"Topic %d:\" % (idx)] = [(vectorizer.get_feature_names_out()[i], topic[i])for i in topic.argsort()[:-10 - 1:-1]]\n",
    "    return topic_dict, vectorizer, lda_model\n",
    "\n",
    "def get_topic(df2, vectorizer, lda_model):\n",
    "    \"\"\"takes a clean_text tweet and determines the topic it\n",
    "    most likely belongs to. Good for tracking re-tweets and predicting trends\n",
    "    based on word\"\"\"\n",
    "    df = df2.copy()\n",
    "    topic_LDA = []\n",
    "    for i in range(len(df)):\n",
    "        example = [df['clean_text'].iloc[i]]\n",
    "        #Vectorize the example\n",
    "        example_vectorized = vectorizer.transform(example)\n",
    "        #use trained LDA model to predict topic\n",
    "        lda_vectors = lda_model.transform(example_vectorized)\n",
    "        ldas = {lda_vectors[0][0]:1,lda_vectors[0][1]:2, lda_vectors[0][2]:3}\n",
    "        top = ldas[np.max([lda_vectors[0][0],lda_vectors[0][1],lda_vectors[0][2]])]\n",
    "        topic_LDA.append(top)\n",
    "    df['topic_LDA'] = topic_LDA\n",
    "    return df"
   ]
  },
  {
   "cell_type": "code",
   "execution_count": 794,
   "id": "46b15300",
   "metadata": {},
   "outputs": [],
   "source": [
    "topic_dict, vectorizer, lda_model = LDA_trainer(clean_df)"
   ]
  },
  {
   "cell_type": "code",
   "execution_count": 795,
   "id": "6bf6bce1",
   "metadata": {},
   "outputs": [
    {
     "data": {
      "text/plain": [
       "{'Topic 0:': [('oil', 6.250478355179108),\n",
       "  ('algal', 5.251253792859915),\n",
       "  ('dha', 2.2500597927415606),\n",
       "  ('sourced', 2.2499417561296378),\n",
       "  ('omega', 2.2498808520803406),\n",
       "  ('aquafeed', 2.2498218480115617),\n",
       "  ('study', 2.2491704730882387),\n",
       "  ('yet', 1.2499351844588111),\n",
       "  ('increasingly', 1.2499351844588111),\n",
       "  ('plant', 1.2499351844588111)],\n",
       " 'Topic 1:': [('oil', 0.2501297918299303),\n",
       "  ('vegan', 0.250126808710588),\n",
       "  ('algal', 0.250121658369847),\n",
       "  ('deep', 0.25010431019568796),\n",
       "  ('dive', 0.25010431019568796),\n",
       "  ('lca', 0.25010431019568796),\n",
       "  ('sustainability', 0.25010431019568796),\n",
       "  ('ingredient', 0.25010431019568796),\n",
       "  ('effect', 0.250101212184022),\n",
       "  ('study', 0.2501004478110606)],\n",
       " 'Topic 2:': [('amp', 3.2499572561324417),\n",
       "  ('ocean', 2.252815551906676),\n",
       "  ('algal', 2.249489821503036),\n",
       "  ('oil', 2.248173337937165),\n",
       "  ('bloom', 1.2509781081598657),\n",
       "  ('harmful', 1.2509781081598657),\n",
       "  ('spill', 1.2509781081598657),\n",
       "  ('effect', 1.2507088106300415),\n",
       "  ('study', 1.2506798293694872),\n",
       "  ('color', 1.2499505424474493)],\n",
       " 'Topic 3:': [('oil', 3.251218515053741),\n",
       "  ('dha', 2.2498239637070596),\n",
       "  ('algal', 2.2491347272671454),\n",
       "  ('vegan', 1.2508968434053154),\n",
       "  ('joe', 1.2499496134484935),\n",
       "  ('splash', 1.2499496134484935),\n",
       "  ('cream', 1.2499496134484935),\n",
       "  ('come', 1.2499496134484935),\n",
       "  ('coffee', 1.2499496134484935),\n",
       "  ('bunch', 1.2499496134484935)]}"
      ]
     },
     "execution_count": 795,
     "metadata": {},
     "output_type": "execute_result"
    }
   ],
   "source": [
    "topic_dict"
   ]
  },
  {
   "cell_type": "code",
   "execution_count": 796,
   "id": "dd10ae86",
   "metadata": {},
   "outputs": [
    {
     "data": {
      "image/png": "[encoded data removed]",
      "text/plain": [
       "<Figure size 432x288 with 1 Axes>"
      ]
     },
     "metadata": {
      "needs_background": "light"
     },
     "output_type": "display_data"
    }
   ],
   "source": [
    "#ratio of retweets to tweets\n",
    "clean_df['retweet'].value_counts().plot(kind='bar')\n",
    "plt.title(f'Source vs. Retweets for: {keyword}')\n",
    "plt.xticks([0,1], labels = {'Retweet':1,'Source':0})\n",
    "plt.ylabel('Number of Tweets');"
   ]
  },
  {
   "cell_type": "markdown",
   "id": "8eac4bf3",
   "metadata": {},
   "source": [
    "## Popular hashtags about..."
   ]
  },
  {
   "cell_type": "code",
   "execution_count": 425,
   "id": "14224a80",
   "metadata": {},
   "outputs": [],
   "source": [
    "def distribution_hashtags(df2): #keyword\n",
    "    hashtags = {}\n",
    "    for i,row in enumerate(df2['hashtags']):\n",
    "        for x in df2['hashtags'].iloc[i]:\n",
    "            if x in hashtags:\n",
    "                hashtags[x] +=1\n",
    "            else:\n",
    "                hashtags[x] =1\n",
    "    hashes = pd.DataFrame(hashtags.values(), hashtags.keys()).sort_values(0, ascending = False).reset_index().rename(columns = {'index':'hashtags', 0:'count'})\n",
    "   # hashes.to_csv(f'{path}{keyword}.hashtags.csv')\n",
    "    return hashes"
   ]
  },
  {
   "cell_type": "code",
   "execution_count": 798,
   "id": "c6dd88a2",
   "metadata": {},
   "outputs": [
    {
     "data": {
      "text/html": [
       "<div>\n",
       "<style scoped>\n",
       "    .dataframe tbody tr th:only-of-type {\n",
       "        vertical-align: middle;\n",
       "    }\n",
       "\n",
       "    .dataframe tbody tr th {\n",
       "        vertical-align: top;\n",
       "    }\n",
       "\n",
       "    .dataframe thead th {\n",
       "        text-align: right;\n",
       "    }\n",
       "</style>\n",
       "<table border=\"1\" class=\"dataframe\">\n",
       "  <thead>\n",
       "    <tr style=\"text-align: right;\">\n",
       "      <th></th>\n",
       "      <th>hashtags</th>\n",
       "      <th>count</th>\n",
       "    </tr>\n",
       "  </thead>\n",
       "  <tbody>\n",
       "  </tbody>\n",
       "</table>\n",
       "</div>"
      ],
      "text/plain": [
       "Empty DataFrame\n",
       "Columns: [hashtags, count]\n",
       "Index: []"
      ]
     },
     "execution_count": 798,
     "metadata": {},
     "output_type": "execute_result"
    }
   ],
   "source": [
    "hashes = distribution_hashtags(clean_df)\n",
    "hashes[hashes['count']>1]"
   ]
  },
  {
   "cell_type": "markdown",
   "id": "af106aed",
   "metadata": {},
   "source": [
    "## Popular mentions on topic about..."
   ]
  },
  {
   "cell_type": "code",
   "execution_count": 427,
   "id": "86adb05b",
   "metadata": {},
   "outputs": [],
   "source": [
    "def distribution_mentions(df2): #keyword\n",
    "    mentions = {}\n",
    "    for i,row in enumerate(df2['mentions']):\n",
    "        for x in df2['mentions'].iloc[i]:\n",
    "            if x in mentions:\n",
    "                mentions[x] +=1\n",
    "            else:\n",
    "                mentions[x] =1\n",
    "    mentions = pd.DataFrame(mentions.values(), mentions.keys()).sort_values(0, ascending = False).reset_index().rename(columns = {'index':'mentions', 0:'count'})\n",
    "   # hashes.to_csv(f'{path}{keyword}.hashtags.csv')\n",
    "    return mentions"
   ]
  },
  {
   "cell_type": "code",
   "execution_count": 778,
   "id": "66d4a3cb",
   "metadata": {},
   "outputs": [
    {
     "data": {
      "text/html": [
       "<div>\n",
       "<style scoped>\n",
       "    .dataframe tbody tr th:only-of-type {\n",
       "        vertical-align: middle;\n",
       "    }\n",
       "\n",
       "    .dataframe tbody tr th {\n",
       "        vertical-align: top;\n",
       "    }\n",
       "\n",
       "    .dataframe thead th {\n",
       "        text-align: right;\n",
       "    }\n",
       "</style>\n",
       "<table border=\"1\" class=\"dataframe\">\n",
       "  <thead>\n",
       "    <tr style=\"text-align: right;\">\n",
       "      <th></th>\n",
       "      <th>mentions</th>\n",
       "      <th>count</th>\n",
       "    </tr>\n",
       "  </thead>\n",
       "  <tbody>\n",
       "    <tr>\n",
       "      <th>0</th>\n",
       "      <td>sbjennykan</td>\n",
       "      <td>21</td>\n",
       "    </tr>\n",
       "    <tr>\n",
       "      <th>1</th>\n",
       "      <td>raji143</td>\n",
       "      <td>17</td>\n",
       "    </tr>\n",
       "    <tr>\n",
       "      <th>2</th>\n",
       "      <td>BurleyResearch</td>\n",
       "      <td>15</td>\n",
       "    </tr>\n",
       "    <tr>\n",
       "      <th>3</th>\n",
       "      <td>adejimiadeniji</td>\n",
       "      <td>14</td>\n",
       "    </tr>\n",
       "    <tr>\n",
       "      <th>4</th>\n",
       "      <td>FirstCreateMe</td>\n",
       "      <td>13</td>\n",
       "    </tr>\n",
       "    <tr>\n",
       "      <th>...</th>\n",
       "      <td>...</td>\n",
       "      <td>...</td>\n",
       "    </tr>\n",
       "    <tr>\n",
       "      <th>63</th>\n",
       "      <td>denyyourtruth</td>\n",
       "      <td>3</td>\n",
       "    </tr>\n",
       "    <tr>\n",
       "      <th>64</th>\n",
       "      <td>Durgesh36301569</td>\n",
       "      <td>3</td>\n",
       "    </tr>\n",
       "    <tr>\n",
       "      <th>65</th>\n",
       "      <td>eureKAREfr</td>\n",
       "      <td>3</td>\n",
       "    </tr>\n",
       "    <tr>\n",
       "      <th>66</th>\n",
       "      <td>Nature</td>\n",
       "      <td>3</td>\n",
       "    </tr>\n",
       "    <tr>\n",
       "      <th>67</th>\n",
       "      <td>JoynBio</td>\n",
       "      <td>3</td>\n",
       "    </tr>\n",
       "  </tbody>\n",
       "</table>\n",
       "<p>68 rows × 2 columns</p>\n",
       "</div>"
      ],
      "text/plain": [
       "           mentions  count\n",
       "0        sbjennykan     21\n",
       "1           raji143     17\n",
       "2    BurleyResearch     15\n",
       "3    adejimiadeniji     14\n",
       "4     FirstCreateMe     13\n",
       "..              ...    ...\n",
       "63    denyyourtruth      3\n",
       "64  Durgesh36301569      3\n",
       "65       eureKAREfr      3\n",
       "66           Nature      3\n",
       "67          JoynBio      3\n",
       "\n",
       "[68 rows x 2 columns]"
      ]
     },
     "execution_count": 778,
     "metadata": {},
     "output_type": "execute_result"
    }
   ],
   "source": [
    "mentions = distribution_mentions(clean_df)\n",
    "mentions[mentions['count']>2]"
   ]
  },
  {
   "cell_type": "markdown",
   "id": "1bc11080",
   "metadata": {
    "heading_collapsed": true
   },
   "source": [
    "## Summary of tweets"
   ]
  },
  {
   "cell_type": "markdown",
   "id": "a4844eaa",
   "metadata": {
    "heading_collapsed": true,
    "hidden": true
   },
   "source": [
    "### prepare tweets for summarizing"
   ]
  },
  {
   "cell_type": "code",
   "execution_count": 219,
   "id": "ae71ba22",
   "metadata": {
    "hidden": true
   },
   "outputs": [],
   "source": [
    "def tweets_to_string(df2):\n",
    "    '''takes a DataFrame with clean_text and concatenates\n",
    "    all the clean_text tweets into a single string for\n",
    "    the summarization pipeline with summy'''\n",
    "    df_users = df2.groupby('author_id').agg('count').sort_values('created_at', ascending=False)\n",
    "    #filters tweets for accounts that tweeted at least 2x in time interval\n",
    "    df_masses = df_users[df_users['created_at']>=2].reset_index()\n",
    "    #df_masses = df2[df2['retweet']==0]\n",
    "    \n",
    "    full_text_punct = \"\"\n",
    "    for i in range(len(df_masses)):\n",
    "        df = df2[df2['author_id']==df_masses['author_id'][i]]\n",
    "        df = df['clean_text'].apply(lambda x: re.sub('rt : ', ' ', x, flags=re.MULTILINE))\n",
    "        df = df.reset_index()\n",
    "        #separates each tweet by a period punctuation\n",
    "        for j in range(len(df)):\n",
    "            full_text_punct = full_text_punct + df['clean_text'].iloc[j] + '. '\n",
    "    return full_text_punct"
   ]
  },
  {
   "cell_type": "markdown",
   "id": "9c2b0937",
   "metadata": {
    "heading_collapsed": true,
    "hidden": true
   },
   "source": [
    "### Lex Rank Summarizer\n",
    "summarizes based on frequency of sentence in document and returns number of sentences specified."
   ]
  },
  {
   "cell_type": "code",
   "execution_count": 433,
   "id": "a8b73a8d",
   "metadata": {
    "hidden": true
   },
   "outputs": [],
   "source": [
    "def Lex_Rank_summarizer(df2, sentences = 2):\n",
    "    '''used for titling final product. summarizes based on frequency of sentence in document\n",
    "    and returns number of sentences specified. Parser is instatiated.'''\n",
    "    chunks = []\n",
    "    count = 0\n",
    "    \n",
    "    for i in range(25,len(df2[df2['retweet']==0]), 25):\n",
    "        document = ''\n",
    "\n",
    "        for x in df2[df2['retweet']==0]['clean_text'].iloc[count:i].to_list():#\n",
    "            document = document + x +'. '\n",
    "        chunks.append(document)\n",
    "        count += 25\n",
    "    summaries = []\n",
    "    for i in range(len(chunks)):\n",
    "        parser = PlaintextParser.from_string(chunks[i], Tokenizer(\"english\"))\n",
    "        summarizer = LexRankSummarizer(Stemmer(\"english\"))\n",
    "        summary = summarizer(parser.document, 1)\n",
    "        short_summary = [sentence for sentence in summary]\n",
    "        summaries.append(short_summary)\n",
    "    return summaries\n"
   ]
  },
  {
   "cell_type": "code",
   "execution_count": 750,
   "id": "0ce32cac",
   "metadata": {
    "hidden": true
   },
   "outputs": [
    {
     "data": {
      "text/plain": [
       "[[<Sentence: learn more on the pathway website.. thanks to ,  and the ucl team for hosting today’s  science board meeting.>],\n",
       " [<Sentence: although canada has been slow at commercializing regenerative medicines, we are now investing and developing our biomanufacturing capacity.. briacell partners with waisman biomanufacturing to supply prostate cance...  via. . is hosting a biomanufacturing journal club featuring rodrigo ledesma-amaro on july 19th at 8am pt.>],\n",
       " [<Sentence: biotech and biomanufacturing here.>]]"
      ]
     },
     "execution_count": 750,
     "metadata": {},
     "output_type": "execute_result"
    }
   ],
   "source": [
    "lex_rank_sum = Lex_Rank_summarizer(clean_df, sentences = 1)\n",
    "summaries = lex_rank_sum \n",
    "lex_rank_sum"
   ]
  },
  {
   "cell_type": "markdown",
   "id": "3b683896",
   "metadata": {
    "hidden": true
   },
   "source": [
    "Query 'bio manufacturing'. Lex Rank result <br>\n",
    "'[[<Sentence: following a recent cabinet decision to approve the establishment of the africa biomanufacturing institute in #rwanda, the government is engaging a host of higher learning institutions to help train, re-skill and upskill professionals in the  industry.. the biomanufacturing revolution is one of the most promising solutions to our biggest global problems, from plastic pollution to preventing pandemics.>],<br>\n",
    " [<Sentence: contact  to learn more about phase 1 of our 1m rsf biomanufacturing campus, which is scheduled for delivery in 2023.. the #quad has begun to focus on other #emergingtech such as advanced #biotech, including synthetic biology, #genome sequencing, and #biomanufacturing, while exploring areas of cooperation among the quad countries.<br>\n",
    " [<Sentence: learn more about our upcoming mrna vaccine and #biomanufacturing facility.. gmp downstream biomanufacturing operator (2nd shift) - fargo - danaher #fargo #jobs.>],\n",
    " [<Sentence: #biomanufacturing.>],<br>\n",
    " [<Sentence: learn more on the pathway website.. thanks to ,  and the ucl team for hosting today’s  science board meeting.>]]'"
   ]
  },
  {
   "cell_type": "code",
   "execution_count": 139,
   "id": "b5ffaa01",
   "metadata": {
    "hidden": true
   },
   "outputs": [
    {
     "data": {
      "text/plain": [
       "137"
      ]
     },
     "execution_count": 139,
     "metadata": {},
     "output_type": "execute_result"
    }
   ],
   "source": [
    "len(clean_df[clean_df['retweet']==0])"
   ]
  },
  {
   "cell_type": "markdown",
   "id": "84db77a7",
   "metadata": {
    "hidden": true
   },
   "source": [
    "### Luhn Summarizer\n",
    "It selects only the words of higher importance as per their frequency in the corpus. Higher weights are assigned to the words present at the beginning of the document."
   ]
  },
  {
   "cell_type": "code",
   "execution_count": 454,
   "id": "86727a7a",
   "metadata": {
    "hidden": true
   },
   "outputs": [],
   "source": [
    "def Luhn_summarizer(full_text_punct, sentences = 4):\n",
    "    '''Luhn’s algorithm is an approach based on TF-IDF.\n",
    "    It selects only the words of higher importance as per their frequency.\n",
    "    Higher weights are assigned to the words present at the begining of the document.\n",
    "    Parser is instatiated.'''\n",
    "    parser = PlaintextParser.from_string(full_text_punct, Tokenizer(\"english\"))\n",
    "    summarizer_luhn = LuhnSummarizer(Stemmer(\"english\"))\n",
    "    #summarizer_luhn.stop_words = get_stop_words(\"english\")\n",
    "\n",
    "    #Summarize the document with 2 sentences\n",
    "    summary = summarizer_luhn(parser.document,sentences)\n",
    "    summary1 = [sentence for sentence in summary]\n",
    "    return summary"
   ]
  },
  {
   "cell_type": "code",
   "execution_count": 751,
   "id": "12e0774f",
   "metadata": {
    "hidden": true
   },
   "outputs": [
    {
     "data": {
      "text/plain": [
       "(<Sentence: writes.. the #quad has begun to focus on other #emergingtech such as advanced #biotech, including synthetic biology, #genome sequencing, and #biomanufacturing, while exploring areas of cooperation among the quad countries.>,\n",
       " <Sentence: writes.. the #quad has begun to focus on other #emergingtech such as advanced #biotech, including synthetic biology, #genome sequencing, and #biomanufacturing, while exploring areas of cooperation among the quad countries.>,\n",
       " <Sentence: writes.. the #quad has begun to focus on other #emergingtech such as advanced #biotech, including synthetic biology, #genome sequencing, and #biomanufacturing, while exploring areas of cooperation among the quad countries.>,\n",
       " <Sentence: writes.. the #quad has begun to focus on other #emergingtech such as advanced #biotech, including synthetic biology, #genome sequencing, and #biomanufacturing, while exploring areas of cooperation among the quad countries.>)"
      ]
     },
     "execution_count": 751,
     "metadata": {},
     "output_type": "execute_result"
    }
   ],
   "source": [
    "text = tweets_to_string(clean_df)\n",
    "luhn_sum = Luhn_summarizer(text, sentences = 4)\n",
    "summary1 = luhn_sum \n",
    "luhn_sum"
   ]
  },
  {
   "cell_type": "markdown",
   "id": "c1a2bb60",
   "metadata": {
    "hidden": true
   },
   "source": [
    "__Query 'biomanufacturing':__<br>\n",
    "<Sentence: writes.. the #quad has begun to focus on other #emergingtech such as advanced #biotech, including synthetic biology, #genome sequencing, and #biomanufacturing, while exploring areas of cooperation among the quad countries.>,<br>\n",
    " <Sentence: al) companies to rescue as well as #investment opportunities in #bone growth, #cartillage regeneration, #mitochondria medicine startups, organ #biofabrication #biomanufacturing , organoids, and #eye and #follicle regenerative med.. i'm actively looking for #neuro growth als parkinson’s companies to rescue as well as #investment opportunities in #bone growth, #cartillage regeneration, #mitochondria medicine startups, organ #biofabrication #biomanufacturing , organoids, and #eye and #follicle regenerative med.>)"
   ]
  },
  {
   "cell_type": "markdown",
   "id": "6998eced",
   "metadata": {
    "hidden": true
   },
   "source": [
    "### LSA Summarizer\n",
    "Based on term frequency techniques with singular value decomposition to summarize texts."
   ]
  },
  {
   "cell_type": "code",
   "execution_count": 193,
   "id": "c0f42f48",
   "metadata": {
    "hidden": true
   },
   "outputs": [],
   "source": [
    "def LSA_summarizer(full_text_punct, sentences = 2):\n",
    "    '''Based on term frequency techniques with singular value decomposition to summarize texts.'''\n",
    "    parser = PlaintextParser.from_string(full_text_punct, Tokenizer(\"english\"))\n",
    "    summarizer_lsa = LsaSummarizer(Stemmer(\"english\"))\n",
    "    summarizer_lsa.stop_words = get_stop_words(\"english\")\n",
    "    summary =summarizer_lsa(parser.document,sentences)\n",
    "    summary3 = [sentence for sentence in summary]\n",
    "    return summary3"
   ]
  },
  {
   "cell_type": "code",
   "execution_count": 752,
   "id": "ff3c6a85",
   "metadata": {
    "hidden": true
   },
   "outputs": [
    {
     "data": {
      "text/plain": [
       "[<Sentence: the #quad has begun to focus on other #emergingtech such as advanced #biotech, including synthetic biology, #genome sequenci….>,\n",
       " <Sentence: the #quad has begun to focus on other #emergingtech such as advanced #biotech, including synthetic biology, #genome sequenci….>,\n",
       " <Sentence: we are thrilled to have kathleen munster, svp, enabling functions (quality, facilities, &amp; it) at  lead an engaging case study at #bmws22.>,\n",
       " <Sentence: gr8 chat about how #canada must be ambitious, #biomanufacturing, the power of smart investment &amp; the criticality of talent to drive it all.>]"
      ]
     },
     "execution_count": 752,
     "metadata": {},
     "output_type": "execute_result"
    }
   ],
   "source": [
    "lsa_sum = LSA_summarizer(text, sentences=4)\n",
    "summary2 = lsa_sum \n",
    "lsa_sum"
   ]
  },
  {
   "cell_type": "markdown",
   "id": "4d76b7f0",
   "metadata": {
    "hidden": true
   },
   "source": [
    "### Text Rank Summarizer\n",
    "Text rank is a graph-based summarization technique with keyword extractions in from document."
   ]
  },
  {
   "cell_type": "code",
   "execution_count": 459,
   "id": "089d5002",
   "metadata": {
    "hidden": true
   },
   "outputs": [],
   "source": [
    "def text_rank_summarizer(full_text_punct, sentences = 4):\n",
    "    '''Text rank is a graph-based summarization technique with keyword extractions in from document.'''\n",
    "    parser = PlaintextParser.from_string(full_text_punct, Tokenizer(\"english\"))\n",
    "    summarizer = TextRankSummarizer(Stemmer(\"english\"))\n",
    "    summarizer.stop_words = get_stop_words(\"english\")\n",
    "    summary4 =summarizer(parser.document,sentences)\n",
    "    return summary4"
   ]
  },
  {
   "cell_type": "code",
   "execution_count": 753,
   "id": "b8262dba",
   "metadata": {
    "hidden": true
   },
   "outputs": [
    {
     "data": {
      "text/plain": [
       "(<Sentence: writes.. the #quad has begun to focus on other #emergingtech such as advanced #biotech, including synthetic biology, #genome sequencing, and #biomanufacturing, while exploring areas of cooperation among the quad countries.>,\n",
       " <Sentence: writes.. the #quad has begun to focus on other #emergingtech such as advanced #biotech, including synthetic biology, #genome sequencing, and #biomanufacturing, while exploring areas of cooperation among the quad countries.>,\n",
       " <Sentence: writes.. the #quad has begun to focus on other #emergingtech such as advanced #biotech, including synthetic biology, #genome sequencing, and #biomanufacturing, while exploring areas of cooperation among the quad countries.>,\n",
       " <Sentence: writes.. the #quad has begun to focus on other #emergingtech such as advanced #biotech, including synthetic biology, #genome sequencing, and #biomanufacturing, while exploring areas of cooperation among the quad countries.>)"
      ]
     },
     "execution_count": 753,
     "metadata": {},
     "output_type": "execute_result"
    }
   ],
   "source": [
    "text_rank_sum = text_rank_summarizer(text)\n",
    "summary3 = text_rank_sum\n",
    "text_rank_sum"
   ]
  },
  {
   "cell_type": "markdown",
   "id": "9631332f",
   "metadata": {
    "hidden": true
   },
   "source": [
    "__Query 'bioanufacturing'__ <br>\n",
    "<Sentence: writes.. the #quad has begun to focus on other #emergingtech such as advanced #biotech, including synthetic biology, #genome sequencing, and #biomanufacturing, while exploring areas of cooperation among the quad countries.>,<br>\n",
    " <Sentence: writes.. the #quad has begun to focus on other #emergingtech such as advanced #biotech, including synthetic biology, #genome sequencing, and #biomanufacturing, while exploring areas of cooperation among the quad countries.>"
   ]
  },
  {
   "cell_type": "code",
   "execution_count": 461,
   "id": "64dec1ad",
   "metadata": {
    "hidden": true
   },
   "outputs": [],
   "source": [
    "#create a dictionary of the summaries and save them to csv\n",
    "def full_summary(summaries, summary1, summary2, summary3):\n",
    "    sum_dict = {'lex_rank': summaries, 'luhn': summary1, 'lsa': summary2, 'text_rank':summary3}\n",
    "    return sum_dict"
   ]
  },
  {
   "cell_type": "code",
   "execution_count": 462,
   "id": "4bb4de43",
   "metadata": {
    "hidden": true
   },
   "outputs": [
    {
     "data": {
      "text/html": [
       "<div>\n",
       "<style scoped>\n",
       "    .dataframe tbody tr th:only-of-type {\n",
       "        vertical-align: middle;\n",
       "    }\n",
       "\n",
       "    .dataframe tbody tr th {\n",
       "        vertical-align: top;\n",
       "    }\n",
       "\n",
       "    .dataframe thead th {\n",
       "        text-align: right;\n",
       "    }\n",
       "</style>\n",
       "<table border=\"1\" class=\"dataframe\">\n",
       "  <thead>\n",
       "    <tr style=\"text-align: right;\">\n",
       "      <th></th>\n",
       "      <th>0</th>\n",
       "      <th>1</th>\n",
       "      <th>2</th>\n",
       "      <th>3</th>\n",
       "      <th>4</th>\n",
       "      <th>5</th>\n",
       "      <th>6</th>\n",
       "      <th>7</th>\n",
       "      <th>8</th>\n",
       "      <th>9</th>\n",
       "      <th>10</th>\n",
       "      <th>11</th>\n",
       "      <th>12</th>\n",
       "    </tr>\n",
       "  </thead>\n",
       "  <tbody>\n",
       "    <tr>\n",
       "      <th>lex_rank</th>\n",
       "      <td>[let’s be honest: apple uses privacy as a form...</td>\n",
       "      <td>[#privacy #marketing.]</td>\n",
       "      <td>[data privacy is the future of digital marketi...</td>\n",
       "      <td>[911 was an excuse for the gov to ramp up the ...</td>\n",
       "      <td>[#privacy #marketing.]</td>\n",
       "      <td>[#privacy #marketing.]</td>\n",
       "      <td>[#marketing #privacy.]</td>\n",
       "      <td>[#privacy #marketing.]</td>\n",
       "      <td>[wow  in this era of women fighting to preserv...</td>\n",
       "      <td>[#privacy #marketing.]</td>\n",
       "      <td>[18 - marketing in the era of data privacy]</td>\n",
       "      <td>[why put that photo on instagram?don't you kno...</td>\n",
       "      <td>[improved security and privacy (no more unnece...</td>\n",
       "    </tr>\n",
       "    <tr>\n",
       "      <th>luhn</th>\n",
       "      <td>releases q1 2022 app store safety report; find...</td>\n",
       "      <td>here’s why..  \"the federal trade commission wi...</td>\n",
       "      <td>she shares her wisdom on all things privacy, m...</td>\n",
       "      <td>she shares her wisdom on all things privacy, m...</td>\n",
       "      <td>None</td>\n",
       "      <td>None</td>\n",
       "      <td>None</td>\n",
       "      <td>None</td>\n",
       "      <td>None</td>\n",
       "      <td>None</td>\n",
       "      <td>None</td>\n",
       "      <td>None</td>\n",
       "      <td>None</td>\n",
       "    </tr>\n",
       "    <tr>\n",
       "      <th>lsa</th>\n",
       "      <td>the following website will allow you to opt-ou...</td>\n",
       "      <td>hong kong and singapore #privacy watchdogs hav...</td>\n",
       "      <td>#imarketz #marketingagency #digitalmarketing #...</td>\n",
       "      <td>tim glomb breaks down key takeaways from the r...</td>\n",
       "      <td>None</td>\n",
       "      <td>None</td>\n",
       "      <td>None</td>\n",
       "      <td>None</td>\n",
       "      <td>None</td>\n",
       "      <td>None</td>\n",
       "      <td>None</td>\n",
       "      <td>None</td>\n",
       "      <td>None</td>\n",
       "    </tr>\n",
       "    <tr>\n",
       "      <th>text_rank</th>\n",
       "      <td>mexico: personal data privacy in digital platf...</td>\n",
       "      <td>mexico: personal data privacy in digital platf...</td>\n",
       "      <td>let’s be honest: apple uses privacy as a form ...</td>\n",
       "      <td>📍though data privacy 🔐is fundamentally changin...</td>\n",
       "      <td>None</td>\n",
       "      <td>None</td>\n",
       "      <td>None</td>\n",
       "      <td>None</td>\n",
       "      <td>None</td>\n",
       "      <td>None</td>\n",
       "      <td>None</td>\n",
       "      <td>None</td>\n",
       "      <td>None</td>\n",
       "    </tr>\n",
       "  </tbody>\n",
       "</table>\n",
       "</div>"
      ],
      "text/plain": [
       "                                                          0   \\\n",
       "lex_rank   [let’s be honest: apple uses privacy as a form...   \n",
       "luhn       releases q1 2022 app store safety report; find...   \n",
       "lsa        the following website will allow you to opt-ou...   \n",
       "text_rank  mexico: personal data privacy in digital platf...   \n",
       "\n",
       "                                                          1   \\\n",
       "lex_rank                              [#privacy #marketing.]   \n",
       "luhn       here’s why..  \"the federal trade commission wi...   \n",
       "lsa        hong kong and singapore #privacy watchdogs hav...   \n",
       "text_rank  mexico: personal data privacy in digital platf...   \n",
       "\n",
       "                                                          2   \\\n",
       "lex_rank   [data privacy is the future of digital marketi...   \n",
       "luhn       she shares her wisdom on all things privacy, m...   \n",
       "lsa        #imarketz #marketingagency #digitalmarketing #...   \n",
       "text_rank  let’s be honest: apple uses privacy as a form ...   \n",
       "\n",
       "                                                          3   \\\n",
       "lex_rank   [911 was an excuse for the gov to ramp up the ...   \n",
       "luhn       she shares her wisdom on all things privacy, m...   \n",
       "lsa        tim glomb breaks down key takeaways from the r...   \n",
       "text_rank  📍though data privacy 🔐is fundamentally changin...   \n",
       "\n",
       "                               4                       5   \\\n",
       "lex_rank   [#privacy #marketing.]  [#privacy #marketing.]   \n",
       "luhn                         None                    None   \n",
       "lsa                          None                    None   \n",
       "text_rank                    None                    None   \n",
       "\n",
       "                               6                       7   \\\n",
       "lex_rank   [#marketing #privacy.]  [#privacy #marketing.]   \n",
       "luhn                         None                    None   \n",
       "lsa                          None                    None   \n",
       "text_rank                    None                    None   \n",
       "\n",
       "                                                          8   \\\n",
       "lex_rank   [wow  in this era of women fighting to preserv...   \n",
       "luhn                                                    None   \n",
       "lsa                                                     None   \n",
       "text_rank                                               None   \n",
       "\n",
       "                               9   \\\n",
       "lex_rank   [#privacy #marketing.]   \n",
       "luhn                         None   \n",
       "lsa                          None   \n",
       "text_rank                    None   \n",
       "\n",
       "                                                    10  \\\n",
       "lex_rank   [18 - marketing in the era of data privacy]   \n",
       "luhn                                              None   \n",
       "lsa                                               None   \n",
       "text_rank                                         None   \n",
       "\n",
       "                                                          11  \\\n",
       "lex_rank   [why put that photo on instagram?don't you kno...   \n",
       "luhn                                                    None   \n",
       "lsa                                                     None   \n",
       "text_rank                                               None   \n",
       "\n",
       "                                                          12  \n",
       "lex_rank   [improved security and privacy (no more unnece...  \n",
       "luhn                                                    None  \n",
       "lsa                                                     None  \n",
       "text_rank                                               None  "
      ]
     },
     "execution_count": 462,
     "metadata": {},
     "output_type": "execute_result"
    }
   ],
   "source": [
    "sum_dict = full_summary(summaries, summary1, summary2, summary3)\n",
    "summary_df = pd.DataFrame(sum_dict.values(), sum_dict.keys())\n",
    "summary_df"
   ]
  },
  {
   "cell_type": "code",
   "execution_count": 473,
   "id": "fe698b91",
   "metadata": {
    "hidden": true
   },
   "outputs": [],
   "source": [
    "#save dataframe as {keyword}.summary.csv\n",
    "path = f'/Users/maryward/twitter_project/data_Quick/'\n",
    "keyword = 'privacy marketing'\n",
    "def save_summaries_csv(df, keyword, path):\n",
    "    path = path\n",
    "    df.to_csv(f'{path}{keyword}.summary.csv')"
   ]
  },
  {
   "cell_type": "code",
   "execution_count": 474,
   "id": "0a33ffc6",
   "metadata": {
    "hidden": true
   },
   "outputs": [],
   "source": [
    "save_summaries_csv(summary_df, keyword, path)"
   ]
  },
  {
   "cell_type": "markdown",
   "id": "424efb2d",
   "metadata": {},
   "source": [
    "## Top tweeters about..."
   ]
  },
  {
   "cell_type": "code",
   "execution_count": 382,
   "id": "1ee8ca31",
   "metadata": {},
   "outputs": [],
   "source": [
    "def top_tweeter(df2,retweet=None, fewer = 0):\n",
    "    \"\"\"takes a cleaned_df (labeled retweets, etc, returns data_frame \n",
    "    of the account with the most tweets over the last week \"\"\"\n",
    "    '''fewer term refers to the number of tweets posted less than the top tweeter'''\n",
    "    if retweet==0:\n",
    "        df2 = df2[df2['retweet']==0]\n",
    "    #groups df2 by author_id and uses 'created_at' column to uniquely count the tweets\n",
    "    df_users = df2.groupby('author_id').agg('count').sort_values('created_at', ascending=False)\n",
    "    #highest tweet frequency\n",
    "    top_tweets = np.max(df_users['created_at']) - fewer\n",
    "    ##filters df_users for rows with highest tweets, here only one\n",
    "    df_user = df_users[df_users['created_at']<=top_tweets].reset_index().iloc[0,0] \n",
    "    #get user tweet history with filtered 'author_id'\n",
    "    df_user_df = df2[df2['author_id']== df_user]\n",
    "    \n",
    "    return df_user_df"
   ]
  },
  {
   "cell_type": "code",
   "execution_count": 755,
   "id": "b8c6d9b3",
   "metadata": {},
   "outputs": [
    {
     "data": {
      "text/html": [
       "<div>\n",
       "<style scoped>\n",
       "    .dataframe tbody tr th:only-of-type {\n",
       "        vertical-align: middle;\n",
       "    }\n",
       "\n",
       "    .dataframe tbody tr th {\n",
       "        vertical-align: top;\n",
       "    }\n",
       "\n",
       "    .dataframe thead th {\n",
       "        text-align: right;\n",
       "    }\n",
       "</style>\n",
       "<table border=\"1\" class=\"dataframe\">\n",
       "  <thead>\n",
       "    <tr style=\"text-align: right;\">\n",
       "      <th></th>\n",
       "      <th>source</th>\n",
       "      <th>author_id</th>\n",
       "      <th>reply_settings</th>\n",
       "      <th>id</th>\n",
       "      <th>public_metrics</th>\n",
       "      <th>lang</th>\n",
       "      <th>context_annotations</th>\n",
       "      <th>text</th>\n",
       "      <th>created_at</th>\n",
       "      <th>conversation_id</th>\n",
       "      <th>referenced_tweets</th>\n",
       "      <th>in_reply_to_user_id</th>\n",
       "      <th>time</th>\n",
       "      <th>clean_text</th>\n",
       "      <th>mentions</th>\n",
       "      <th>hashtags</th>\n",
       "      <th>retweet</th>\n",
       "      <th>clean_text_lemma</th>\n",
       "    </tr>\n",
       "  </thead>\n",
       "  <tbody>\n",
       "    <tr>\n",
       "      <th>52</th>\n",
       "      <td>Twitter Web App</td>\n",
       "      <td>26261464</td>\n",
       "      <td>everyone</td>\n",
       "      <td>1549044502936973313</td>\n",
       "      <td>{'retweet_count': 2, 'reply_count': 2, 'like_c...</td>\n",
       "      <td>en</td>\n",
       "      <td>[{'domain': {'id': '65', 'name': 'Interests an...</td>\n",
       "      <td>#RhodeIsland is home to many amazing businesse...</td>\n",
       "      <td>2022-07-18 14:52:44+00:00</td>\n",
       "      <td>1549044502936973313</td>\n",
       "      <td>NaN</td>\n",
       "      <td>NaN</td>\n",
       "      <td>14</td>\n",
       "      <td>#rhodeisland is home to many amazing businesse...</td>\n",
       "      <td>[]</td>\n",
       "      <td>[RhodeIsland, fintech, biomanufacturing, Ocean...</td>\n",
       "      <td>0</td>\n",
       "      <td>['rhodeisland', 'home', 'many', 'amazing', 'bu...</td>\n",
       "    </tr>\n",
       "  </tbody>\n",
       "</table>\n",
       "</div>"
      ],
      "text/plain": [
       "             source author_id reply_settings                   id  \\\n",
       "52  Twitter Web App  26261464       everyone  1549044502936973313   \n",
       "\n",
       "                                       public_metrics lang  \\\n",
       "52  {'retweet_count': 2, 'reply_count': 2, 'like_c...   en   \n",
       "\n",
       "                                  context_annotations  \\\n",
       "52  [{'domain': {'id': '65', 'name': 'Interests an...   \n",
       "\n",
       "                                                 text  \\\n",
       "52  #RhodeIsland is home to many amazing businesse...   \n",
       "\n",
       "                  created_at      conversation_id referenced_tweets  \\\n",
       "52 2022-07-18 14:52:44+00:00  1549044502936973313               NaN   \n",
       "\n",
       "   in_reply_to_user_id time  \\\n",
       "52                 NaN   14   \n",
       "\n",
       "                                           clean_text mentions  \\\n",
       "52  #rhodeisland is home to many amazing businesse...       []   \n",
       "\n",
       "                                             hashtags  retweet  \\\n",
       "52  [RhodeIsland, fintech, biomanufacturing, Ocean...        0   \n",
       "\n",
       "                                     clean_text_lemma  \n",
       "52  ['rhodeisland', 'home', 'many', 'amazing', 'bu...  "
      ]
     },
     "execution_count": 755,
     "metadata": {},
     "output_type": "execute_result"
    }
   ],
   "source": [
    "top_tweeter_df = top_tweeter(clean_df, retweet = 0, fewer = 4)\n",
    "top_tweeter_df.head()"
   ]
  },
  {
   "cell_type": "code",
   "execution_count": 756,
   "id": "566c0cbe",
   "metadata": {},
   "outputs": [
    {
     "data": {
      "text/plain": [
       "['#RhodeIsland is home to many amazing businesses, from #fintech to #biomanufacturing and everything in between – we want to know which ones you admire! Tag your favorite company in the comments and let us know how they’ve made a splash in the #OceanState 🌊 ⬇️ https://t.co/3RKKOeySex']"
      ]
     },
     "execution_count": 756,
     "metadata": {},
     "output_type": "execute_result"
    }
   ],
   "source": [
    "top_tweeter_df['text'].to_list()"
   ]
  },
  {
   "cell_type": "code",
   "execution_count": 476,
   "id": "5f983c34",
   "metadata": {},
   "outputs": [],
   "source": [
    "#save dataframe as {keyword}.summary.csv\n",
    "path = f'/Users/maryward/twitter_project/data_Quick/'\n",
    "keyword = 'privacy marketing'\n",
    "def save_top_tweeter_csv(df, keyword, path):\n",
    "    path = path\n",
    "    df.to_csv(f'{path}{keyword}.top_tweeter.csv')"
   ]
  },
  {
   "cell_type": "code",
   "execution_count": 477,
   "id": "6bc07ff6",
   "metadata": {},
   "outputs": [],
   "source": [
    "save_top_tweeter_csv(top_tweeter_df, keyword, path)"
   ]
  },
  {
   "cell_type": "markdown",
   "id": "061dc79a",
   "metadata": {},
   "source": [
    "## Most Frequent tweet about..."
   ]
  },
  {
   "cell_type": "code",
   "execution_count": 799,
   "id": "d6ac6da0",
   "metadata": {},
   "outputs": [],
   "source": [
    "def retweet_freq(df2, num_tweets =2):\n",
    "    '''takes cleaned and labeled df2 and returns dataframe of the \n",
    "    most frequently retweeted tweets'''\n",
    "    retweet = df2[df2['retweet']==1]\n",
    "    top_retweets = df2[df2['retweet']==1]['text'].value_counts().reset_index()\n",
    "    count = 0\n",
    "    lst = top_retweets['index'][:num_tweets].to_list()\n",
    "    \n",
    "    for i in range(len(retweet)):\n",
    "        if retweet['text'].iloc[i] in lst:\n",
    "            if count == 0:\n",
    "                s1 = retweet.iloc[i]\n",
    "                df = pd.DataFrame(s1).T\n",
    "                count +=1\n",
    "            else:\n",
    "                s1 = pd.DataFrame(retweet.iloc[i]).T\n",
    "                df = pd.concat([df,s1])\n",
    "    df['twitter_handle'] = df['text'].apply(lambda x : re.findall(\"@([a-zA-Z0-9_]{1,50}):\", str(x)))            \n",
    "    return df  \n",
    "                   "
   ]
  },
  {
   "cell_type": "code",
   "execution_count": 800,
   "id": "0b10dfa3",
   "metadata": {},
   "outputs": [
    {
     "data": {
      "text/html": [
       "<div>\n",
       "<style scoped>\n",
       "    .dataframe tbody tr th:only-of-type {\n",
       "        vertical-align: middle;\n",
       "    }\n",
       "\n",
       "    .dataframe tbody tr th {\n",
       "        vertical-align: top;\n",
       "    }\n",
       "\n",
       "    .dataframe thead th {\n",
       "        text-align: right;\n",
       "    }\n",
       "</style>\n",
       "<table border=\"1\" class=\"dataframe\">\n",
       "  <thead>\n",
       "    <tr style=\"text-align: right;\">\n",
       "      <th></th>\n",
       "      <th>text</th>\n",
       "      <th>public_metrics</th>\n",
       "      <th>in_reply_to_user_id</th>\n",
       "      <th>reply_settings</th>\n",
       "      <th>created_at</th>\n",
       "      <th>id</th>\n",
       "      <th>source</th>\n",
       "      <th>referenced_tweets</th>\n",
       "      <th>context_annotations</th>\n",
       "      <th>author_id</th>\n",
       "      <th>lang</th>\n",
       "      <th>conversation_id</th>\n",
       "      <th>time</th>\n",
       "      <th>clean_text</th>\n",
       "      <th>mentions</th>\n",
       "      <th>hashtags</th>\n",
       "      <th>retweet</th>\n",
       "      <th>clean_text_lemma</th>\n",
       "      <th>twitter_handle</th>\n",
       "    </tr>\n",
       "  </thead>\n",
       "  <tbody>\n",
       "    <tr>\n",
       "      <th>0</th>\n",
       "      <td>RT @NASAOcean: We shore are excited! @NASA has...</td>\n",
       "      <td>{'retweet_count': 61, 'reply_count': 0, 'like_...</td>\n",
       "      <td>NaN</td>\n",
       "      <td>everyone</td>\n",
       "      <td>2022-07-19 07:05:01+00:00</td>\n",
       "      <td>1549289189744984064</td>\n",
       "      <td>Twitter Web App</td>\n",
       "      <td>[{'type': 'retweeted', 'id': '1549097582978183...</td>\n",
       "      <td>[{'domain': {'id': '46', 'name': 'Brand Catego...</td>\n",
       "      <td>1134329838368460800</td>\n",
       "      <td>en</td>\n",
       "      <td>1549289189744984064</td>\n",
       "      <td>07</td>\n",
       "      <td>rt : we shore are excited!  has a new ocean co...</td>\n",
       "      <td>[NASAOcean, NASA]</td>\n",
       "      <td>[]</td>\n",
       "      <td>1</td>\n",
       "      <td>['rt', 'shore', 'excited', 'new', 'ocean', 'co...</td>\n",
       "      <td>[NASAOcean]</td>\n",
       "    </tr>\n",
       "    <tr>\n",
       "      <th>1</th>\n",
       "      <td>RT @NASAOcean: We shore are excited! @NASA has...</td>\n",
       "      <td>{'retweet_count': 61, 'reply_count': 0, 'like_...</td>\n",
       "      <td>NaN</td>\n",
       "      <td>everyone</td>\n",
       "      <td>2022-07-19 04:49:16+00:00</td>\n",
       "      <td>1549255025918083073</td>\n",
       "      <td>Twitter for iPhone</td>\n",
       "      <td>[{'type': 'retweeted', 'id': '1549097582978183...</td>\n",
       "      <td>[{'domain': {'id': '46', 'name': 'Brand Catego...</td>\n",
       "      <td>1548310374096637958</td>\n",
       "      <td>en</td>\n",
       "      <td>1549255025918083073</td>\n",
       "      <td>04</td>\n",
       "      <td>rt : we shore are excited!  has a new ocean co...</td>\n",
       "      <td>[NASAOcean, NASA]</td>\n",
       "      <td>[]</td>\n",
       "      <td>1</td>\n",
       "      <td>['rt', 'shore', 'excited', 'new', 'ocean', 'co...</td>\n",
       "      <td>[NASAOcean]</td>\n",
       "    </tr>\n",
       "    <tr>\n",
       "      <th>2</th>\n",
       "      <td>RT @NASAOcean: We shore are excited! @NASA has...</td>\n",
       "      <td>{'retweet_count': 61, 'reply_count': 0, 'like_...</td>\n",
       "      <td>NaN</td>\n",
       "      <td>everyone</td>\n",
       "      <td>2022-07-19 04:37:16+00:00</td>\n",
       "      <td>1549252005608443904</td>\n",
       "      <td>Twitter Web App</td>\n",
       "      <td>[{'type': 'retweeted', 'id': '1549097582978183...</td>\n",
       "      <td>[{'domain': {'id': '46', 'name': 'Brand Catego...</td>\n",
       "      <td>1098981126725615617</td>\n",
       "      <td>en</td>\n",
       "      <td>1549252005608443904</td>\n",
       "      <td>04</td>\n",
       "      <td>rt : we shore are excited!  has a new ocean co...</td>\n",
       "      <td>[NASAOcean, NASA]</td>\n",
       "      <td>[]</td>\n",
       "      <td>1</td>\n",
       "      <td>['rt', 'shore', 'excited', 'new', 'ocean', 'co...</td>\n",
       "      <td>[NASAOcean]</td>\n",
       "    </tr>\n",
       "    <tr>\n",
       "      <th>3</th>\n",
       "      <td>RT @NASAOcean: We shore are excited! @NASA has...</td>\n",
       "      <td>{'retweet_count': 61, 'reply_count': 0, 'like_...</td>\n",
       "      <td>NaN</td>\n",
       "      <td>everyone</td>\n",
       "      <td>2022-07-19 03:54:56+00:00</td>\n",
       "      <td>1549241352155643905</td>\n",
       "      <td>Twitter Web App</td>\n",
       "      <td>[{'type': 'retweeted', 'id': '1549097582978183...</td>\n",
       "      <td>[{'domain': {'id': '46', 'name': 'Brand Catego...</td>\n",
       "      <td>1188464523713204224</td>\n",
       "      <td>en</td>\n",
       "      <td>1549241352155643905</td>\n",
       "      <td>03</td>\n",
       "      <td>rt : we shore are excited!  has a new ocean co...</td>\n",
       "      <td>[NASAOcean, NASA]</td>\n",
       "      <td>[]</td>\n",
       "      <td>1</td>\n",
       "      <td>['rt', 'shore', 'excited', 'new', 'ocean', 'co...</td>\n",
       "      <td>[NASAOcean]</td>\n",
       "    </tr>\n",
       "    <tr>\n",
       "      <th>4</th>\n",
       "      <td>RT @NASAOcean: We shore are excited! @NASA has...</td>\n",
       "      <td>{'retweet_count': 61, 'reply_count': 0, 'like_...</td>\n",
       "      <td>NaN</td>\n",
       "      <td>everyone</td>\n",
       "      <td>2022-07-19 03:35:01+00:00</td>\n",
       "      <td>1549236338762858497</td>\n",
       "      <td>Twitter Web App</td>\n",
       "      <td>[{'type': 'retweeted', 'id': '1549097582978183...</td>\n",
       "      <td>[{'domain': {'id': '46', 'name': 'Brand Catego...</td>\n",
       "      <td>1104914473</td>\n",
       "      <td>en</td>\n",
       "      <td>1549236338762858497</td>\n",
       "      <td>03</td>\n",
       "      <td>rt : we shore are excited!  has a new ocean co...</td>\n",
       "      <td>[NASAOcean, NASA]</td>\n",
       "      <td>[]</td>\n",
       "      <td>1</td>\n",
       "      <td>['rt', 'shore', 'excited', 'new', 'ocean', 'co...</td>\n",
       "      <td>[NASAOcean]</td>\n",
       "    </tr>\n",
       "  </tbody>\n",
       "</table>\n",
       "</div>"
      ],
      "text/plain": [
       "                                                text  \\\n",
       "0  RT @NASAOcean: We shore are excited! @NASA has...   \n",
       "1  RT @NASAOcean: We shore are excited! @NASA has...   \n",
       "2  RT @NASAOcean: We shore are excited! @NASA has...   \n",
       "3  RT @NASAOcean: We shore are excited! @NASA has...   \n",
       "4  RT @NASAOcean: We shore are excited! @NASA has...   \n",
       "\n",
       "                                      public_metrics in_reply_to_user_id  \\\n",
       "0  {'retweet_count': 61, 'reply_count': 0, 'like_...                 NaN   \n",
       "1  {'retweet_count': 61, 'reply_count': 0, 'like_...                 NaN   \n",
       "2  {'retweet_count': 61, 'reply_count': 0, 'like_...                 NaN   \n",
       "3  {'retweet_count': 61, 'reply_count': 0, 'like_...                 NaN   \n",
       "4  {'retweet_count': 61, 'reply_count': 0, 'like_...                 NaN   \n",
       "\n",
       "  reply_settings                created_at                   id  \\\n",
       "0       everyone 2022-07-19 07:05:01+00:00  1549289189744984064   \n",
       "1       everyone 2022-07-19 04:49:16+00:00  1549255025918083073   \n",
       "2       everyone 2022-07-19 04:37:16+00:00  1549252005608443904   \n",
       "3       everyone 2022-07-19 03:54:56+00:00  1549241352155643905   \n",
       "4       everyone 2022-07-19 03:35:01+00:00  1549236338762858497   \n",
       "\n",
       "               source                                  referenced_tweets  \\\n",
       "0     Twitter Web App  [{'type': 'retweeted', 'id': '1549097582978183...   \n",
       "1  Twitter for iPhone  [{'type': 'retweeted', 'id': '1549097582978183...   \n",
       "2     Twitter Web App  [{'type': 'retweeted', 'id': '1549097582978183...   \n",
       "3     Twitter Web App  [{'type': 'retweeted', 'id': '1549097582978183...   \n",
       "4     Twitter Web App  [{'type': 'retweeted', 'id': '1549097582978183...   \n",
       "\n",
       "                                 context_annotations            author_id  \\\n",
       "0  [{'domain': {'id': '46', 'name': 'Brand Catego...  1134329838368460800   \n",
       "1  [{'domain': {'id': '46', 'name': 'Brand Catego...  1548310374096637958   \n",
       "2  [{'domain': {'id': '46', 'name': 'Brand Catego...  1098981126725615617   \n",
       "3  [{'domain': {'id': '46', 'name': 'Brand Catego...  1188464523713204224   \n",
       "4  [{'domain': {'id': '46', 'name': 'Brand Catego...           1104914473   \n",
       "\n",
       "  lang      conversation_id time  \\\n",
       "0   en  1549289189744984064   07   \n",
       "1   en  1549255025918083073   04   \n",
       "2   en  1549252005608443904   04   \n",
       "3   en  1549241352155643905   03   \n",
       "4   en  1549236338762858497   03   \n",
       "\n",
       "                                          clean_text           mentions  \\\n",
       "0  rt : we shore are excited!  has a new ocean co...  [NASAOcean, NASA]   \n",
       "1  rt : we shore are excited!  has a new ocean co...  [NASAOcean, NASA]   \n",
       "2  rt : we shore are excited!  has a new ocean co...  [NASAOcean, NASA]   \n",
       "3  rt : we shore are excited!  has a new ocean co...  [NASAOcean, NASA]   \n",
       "4  rt : we shore are excited!  has a new ocean co...  [NASAOcean, NASA]   \n",
       "\n",
       "  hashtags retweet                                   clean_text_lemma  \\\n",
       "0       []       1  ['rt', 'shore', 'excited', 'new', 'ocean', 'co...   \n",
       "1       []       1  ['rt', 'shore', 'excited', 'new', 'ocean', 'co...   \n",
       "2       []       1  ['rt', 'shore', 'excited', 'new', 'ocean', 'co...   \n",
       "3       []       1  ['rt', 'shore', 'excited', 'new', 'ocean', 'co...   \n",
       "4       []       1  ['rt', 'shore', 'excited', 'new', 'ocean', 'co...   \n",
       "\n",
       "  twitter_handle  \n",
       "0    [NASAOcean]  \n",
       "1    [NASAOcean]  \n",
       "2    [NASAOcean]  \n",
       "3    [NASAOcean]  \n",
       "4    [NASAOcean]  "
      ]
     },
     "execution_count": 800,
     "metadata": {},
     "output_type": "execute_result"
    }
   ],
   "source": [
    "top_retweets_funct = retweet_freq(clean_df,num_tweets =10)\n",
    "top_retweets_funct.head()"
   ]
  },
  {
   "cell_type": "code",
   "execution_count": 801,
   "id": "46e06b6c",
   "metadata": {},
   "outputs": [
    {
     "data": {
      "image/png": "[encoded data removed]",
      "text/plain": [
       "<Figure size 432x288 with 1 Axes>"
      ]
     },
     "metadata": {
      "needs_background": "light"
     },
     "output_type": "display_data"
    }
   ],
   "source": [
    "#most retweeted by twitter handle\n",
    "pd.DataFrame(top_retweets_funct['twitter_handle'].value_counts()).plot(kind='bar')\n",
    "plt.title('Most Retweeted by Twitter Account')\n",
    "plt.xlabel('Twitter Handle')\n",
    "plt.ylabel('Number of Retweets')\n",
    "path = f'/Users/maryward/twitter_project/data_Quick/images/'\n",
    "plt.savefig(f'{path}{keyword}.top_tweeter_handles.png')"
   ]
  },
  {
   "cell_type": "code",
   "execution_count": 644,
   "id": "251a4c7c",
   "metadata": {},
   "outputs": [],
   "source": [
    "#save dataframe as {keyword}.summary.csv\n",
    "path = f'/Users/maryward/twitter_project/data_Quick/'\n",
    "keyword = 'privacy marketing'\n",
    "def save_top_tweeter_csv(df, keyword, path):\n",
    "    path = path\n",
    "    df.to_csv(f'{path}{keyword}.top_tweeter.csv')\n",
    "    \n",
    "    "
   ]
  },
  {
   "cell_type": "code",
   "execution_count": 645,
   "id": "96c900bc",
   "metadata": {},
   "outputs": [],
   "source": [
    "save_top_tweeter_csv(top_retweets_funct,keyword,path)"
   ]
  }
 ],
 "metadata": {
  "kernelspec": {
   "display_name": "Python 3 (ipykernel)",
   "language": "python",
   "name": "python3"
  },
  "language_info": {
   "codemirror_mode": {
    "name": "ipython",
    "version": 3
   },
   "file_extension": ".py",
   "mimetype": "text/x-python",
   "name": "python",
   "nbconvert_exporter": "python",
   "pygments_lexer": "ipython3",
   "version": "3.8.13"
  },
  "toc": {
   "base_numbering": 1,
   "nav_menu": {},
   "number_sections": true,
   "sideBar": true,
   "skip_h1_title": false,
   "title_cell": "Table of Contents",
   "title_sidebar": "Contents",
   "toc_cell": false,
   "toc_position": {},
   "toc_section_display": true,
   "toc_window_display": false
  }
 },
 "nbformat": 4,
 "nbformat_minor": 5
}
